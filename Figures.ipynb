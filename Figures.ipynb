{
 "cells": [
  {
   "cell_type": "code",
   "execution_count": null,
   "id": "fbe3a966",
   "metadata": {},
   "outputs": [],
   "source": [
    "#importing prep_data file, jupyter notebook style\n",
    "%run Prep_data_All_Patients.ipynb"
   ]
  },
  {
   "cell_type": "code",
   "execution_count": null,
   "id": "40c4a98d",
   "metadata": {},
   "outputs": [],
   "source": [
    "supDir = '/Users/elikond/Downloads/surprisal_analysis/'\n",
    "clusterDir = '/Users/elikond/Downloads/clusters/'\n",
    "mesenDir = '/Users/elikond/Desktop/Brown_Work/MesenProneural/'"
   ]
  },
  {
   "cell_type": "code",
   "execution_count": null,
   "id": "9f11c7c2",
   "metadata": {},
   "outputs": [],
   "source": [
    "import plotly.express as px\n",
    "from sklearn.neighbors import NearestCentroid\n",
    "import matplotlib.pyplot as plt"
   ]
  },
  {
   "cell_type": "code",
   "execution_count": null,
   "id": "d799088d",
   "metadata": {},
   "outputs": [],
   "source": [
    "def final_figures(clusterNum, supDir, clusterDir, mesenDir, patientID):\n",
    "    merged_df, X_data, y_data, barcode_len, sigSubpopsDF = final(supDir, clusterDir, mesenDir, patientID)\n",
    "    pie_by_cluster(clusterNum, sigSubpopsDF)\n",
    "    pie_all_clusters(sigSubpopsDF)\n",
    "    bar_chart(sigSubpopsDF)\n",
    "    mesen_proneural(sigSubpopsDF)"
   ]
  },
  {
   "cell_type": "code",
   "execution_count": null,
   "id": "66962ae7",
   "metadata": {},
   "outputs": [],
   "source": [
    "final_figures(1, supDir, clusterDir, mesenDir, 'gb9')"
   ]
  },
  {
   "cell_type": "code",
   "execution_count": null,
   "id": "d3e18f30",
   "metadata": {},
   "outputs": [],
   "source": [
    "def subpop_in_cluster(sigSubpopsDF):\n",
    "    #dict1 --> {cluster: {subpop1: 2, subpop2: 1, ...}, cluster1: {subpop1 : 2}}\n",
    "    dict1 = dict()\n",
    "    for i, my_cluster in enumerate(sigSubpopsDF['seurat_clusters']):\n",
    "        x = sigSubpopsDF['Subpopulations'][i]\n",
    "        if my_cluster not in dict1:\n",
    "            dict1[my_cluster] = dict()\n",
    "        if x not in dict1[my_cluster]:\n",
    "            dict1[my_cluster][x] = 1\n",
    "        else:\n",
    "            dict1[my_cluster][x] += 1\n",
    "    return dict1\n",
    "\n",
    "def pie_by_cluster(clusterNum, sigSubpopsDF):\n",
    "    pie_dict = subpop_in_cluster(sigSubpopsDF)\n",
    "    df = pd.DataFrame()\n",
    "    df['Subpopulations'] = [*pie_dict[clusterNum].keys()]\n",
    "    df['Num'] = [*pie_dict[clusterNum].values()]\n",
    "    fig = px.pie(df, values = 'Num', names = 'Subpopulations', title = 'Cluster ' + str(clusterNum))\n",
    "    #fig.update_traces(textposition='inside')\n",
    "    fig.show()\n",
    "    return fig, df"
   ]
  },
  {
   "cell_type": "code",
   "execution_count": null,
   "id": "b25353ca",
   "metadata": {},
   "outputs": [],
   "source": [
    "merged_df, X_data, y_data, barcode_len, sigSubpopsDF = final(supDir, clusterDir, mesenDir, 'gb13')\n",
    "pie_by_cluster(1, sigSubpopsDF)"
   ]
  },
  {
   "cell_type": "code",
   "execution_count": null,
   "id": "29095c18",
   "metadata": {},
   "outputs": [],
   "source": [
    "def pie_all_clusters(sigSubpopsDF):\n",
    "    subpop_count = sigSubpopsDF['Subpopulations'].value_counts().to_frame()\n",
    "    subpop_count.rename(columns={\"Subpopulations\": \"Num\"}, inplace = True)\n",
    "    subpop_count['Subpopulations'] = subpop_count.index\n",
    "    fig = px.pie(subpop_count, values = 'Num', names = 'Subpopulations')\n",
    "    fig.show()\n",
    "    return fig, subpop_count"
   ]
  },
  {
   "cell_type": "code",
   "execution_count": null,
   "id": "49855b10",
   "metadata": {},
   "outputs": [],
   "source": [
    "pie_all_clusters(sigSubpopsDF)"
   ]
  },
  {
   "cell_type": "code",
   "execution_count": null,
   "id": "071f5459",
   "metadata": {},
   "outputs": [],
   "source": [
    "def bar_chart(sigSubpopsDF):\n",
    "    sigControlDF, sigTreatmentDF = split_cellType(sigSubpopsDF)\n",
    "    fig1, subpopControl_count = pie_all_clusters(sigControlDF)\n",
    "    subpopControl_count['Cell_Type'] = len(subpopControl_count) * ['Control']\n",
    "    subpopControl_count['Percent'] = subpopControl_count['Num'].div(sum(subpopControl_count['Num']))\n",
    "    \n",
    "    fig2, subpopTreatment_count = pie_all_clusters(sigTreatmentDF)\n",
    "    subpopTreatment_count['Cell_Type'] = len(subpopTreatment_count) * ['Treatment']\n",
    "    subpopTreatment_count['Percent'] = subpopTreatment_count['Num'].div(sum(subpopTreatment_count['Num']))\n",
    "\n",
    "    subpop_count_both = pd.concat([subpopControl_count, subpopTreatment_count])\n",
    "    \n",
    "    fig = px.bar(subpop_count_both, x=\"Cell_Type\", y=\"Percent\", color=\"Subpopulations\")\n",
    "    fig.show()"
   ]
  },
  {
   "cell_type": "code",
   "execution_count": null,
   "id": "9d9370b0",
   "metadata": {},
   "outputs": [],
   "source": [
    "bar_chart(sigSubpopsDF)"
   ]
  },
  {
   "cell_type": "code",
   "execution_count": null,
   "id": "3fdbda71",
   "metadata": {},
   "outputs": [],
   "source": [
    "def centeroidnp(arr):\n",
    "    length = arr.shape[0]\n",
    "    sum_x = np.sum(arr[:, 0])\n",
    "    sum_y = np.sum(arr[:, 1])\n",
    "    return sum_x/length, sum_y/length\n",
    "\n",
    "def mesen_proneural(sigSubpopsDF):\n",
    "    my_coords_x = list()\n",
    "    my_coords_y = list()\n",
    "    subpops = list(sigSubpopsDF['Subpopulations'])\n",
    "    plt.figure(figsize=(20,20))\n",
    "    for subpop in range(max(subpops)):\n",
    "        temp_df = sigSubpopsDF[sigSubpopsDF[\"Subpopulations\"] == subpop]\n",
    "\n",
    "        my_x = list(temp_df['Mesenchymal'])\n",
    "        my_y = list(temp_df['Proneural'])\n",
    "        my_zip = zip(my_x, my_y)\n",
    "\n",
    "        X = np.array([i for i in my_zip])\n",
    "        centroid_coord = centeroidnp(X)\n",
    "        my_coords_x.append(centroid_coord[0])\n",
    "        my_coords_y.append(centroid_coord[1])\n",
    "\n",
    "        plt.subplot(5,5,subpop+1)\n",
    "        plt.xlim([0.05, 0.25])\n",
    "        plt.ylim([0.05, 0.25])\n",
    "        plt.scatter(my_x, my_y, c = 'blue')\n",
    "        plt.scatter(centroid_coord[0], centroid_coord[1], c = 'black')\n",
    "        plt.title('Subpopulation ' + str(subpop))\n",
    "    plt.show()\n",
    "    \n",
    "    my_coords_xArr = np.array(my_coords_x)\n",
    "    my_coords_yArr = np.array(my_coords_y)\n",
    "\n",
    "    mesenchymal_min = np.argmin(my_coords_xArr)\n",
    "    mesenchymal_max = np.argmax(my_coords_xArr)\n",
    "    proneural_min = np.argmin(my_coords_yArr)\n",
    "    proneural_max = np.argmax(my_coords_yArr)\n",
    "    print(mesenchymal_min, mesenchymal_max, proneural_min, proneural_max)"
   ]
  },
  {
   "cell_type": "code",
   "execution_count": null,
   "id": "0e6e9fac",
   "metadata": {},
   "outputs": [],
   "source": [
    "merged_df, X_data, y_data, barcode_len, sigSubpopsDF = final(supDir, clusterDir, mesenDir, 'gb9')"
   ]
  },
  {
   "cell_type": "code",
   "execution_count": null,
   "id": "9ac583c0",
   "metadata": {},
   "outputs": [],
   "source": [
    "mesen_proneural(sigSubpopsDF)"
   ]
  },
  {
   "cell_type": "code",
   "execution_count": null,
   "id": "ce5a924b",
   "metadata": {},
   "outputs": [],
   "source": [
    "def box_plot(df):\n",
    "    pass"
   ]
  }
 ],
 "metadata": {
  "kernelspec": {
   "display_name": "Python 3 (ipykernel)",
   "language": "python",
   "name": "python3"
  },
  "language_info": {
   "codemirror_mode": {
    "name": "ipython",
    "version": 3
   },
   "file_extension": ".py",
   "mimetype": "text/x-python",
   "name": "python",
   "nbconvert_exporter": "python",
   "pygments_lexer": "ipython3",
   "version": "3.9.12"
  }
 },
 "nbformat": 4,
 "nbformat_minor": 5
}
