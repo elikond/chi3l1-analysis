{
 "cells": [
  {
   "cell_type": "code",
   "execution_count": null,
   "id": "250d63a9",
   "metadata": {},
   "outputs": [],
   "source": [
    "#importing prep_data file, jupyter notebook style\n",
    "%run Prep_data_All_Patients.ipynb"
   ]
  },
  {
   "cell_type": "code",
   "execution_count": null,
   "id": "d47856f1",
   "metadata": {},
   "outputs": [],
   "source": [
    "supDir = '/Users/elikond/Downloads/surprisal_analysis/'\n",
    "clusterDir = '/Users/elikond/Downloads/clusters/'"
   ]
  },
  {
   "cell_type": "code",
   "execution_count": null,
   "id": "ff9a4c7e",
   "metadata": {},
   "outputs": [],
   "source": [
    "from sklearn.model_selection import train_test_split\n",
    "import xgboost as xgb\n",
    "from sklearn.multioutput import MultiOutputClassifier\n",
    "from sklearn.metrics import precision_recall_curve\n",
    "from sklearn.metrics import auc, plot_precision_recall_curve"
   ]
  },
  {
   "cell_type": "code",
   "execution_count": null,
   "id": "1e82c657",
   "metadata": {},
   "outputs": [],
   "source": [
    "patientID = 'gb9'\n",
    "merged_df, X_data, y_data, barcode_len, sigSubpopsDF = final(supDir, clusterDir, mesenDir, patientID)\n",
    "\n",
    "X_data_arr = X_data.to_numpy()\n",
    "y_data_arr = y_data.to_numpy()\n",
    "\n",
    "X_train, X_test, y_train, y_test = train_test_split(X_data_arr, y_data_arr, test_size=0.33, random_state=42)\n",
    "print(X_train.shape)\n",
    "\n",
    "xgb_estimator = xgb.XGBClassifier(objective='binary:logistic')\n",
    "multilabel_model = MultiOutputClassifier(xgb_estimator)\n",
    "multilabel_model.fit(X_train, y_train)"
   ]
  },
  {
   "cell_type": "code",
   "execution_count": null,
   "id": "1b3493bc",
   "metadata": {},
   "outputs": [],
   "source": [
    "def xgboost(supDir, clusterDir, mesenDir, patientID):\n",
    "    merged_df, X_data, y_data, barcode_len, sigSubpopsDF = final(supDir, clusterDir, mesenDir, patientID)\n",
    "        \n",
    "    X_data_arr = X_data.to_numpy()\n",
    "    y_data_arr = y_data.to_numpy()\n",
    "    \n",
    "    X_train, X_test, y_train, y_test = train_test_split(X_data_arr, y_data_arr, test_size=0.33, random_state=42)\n",
    "    \n",
    "    print(X_train)\n",
    "    #print(y_data_arr)\n",
    "    # create XGBoost instance with default hyper-parameters\n",
    "    xgb_estimator = xgb.XGBClassifier(objective='binary:logistic')\n",
    "\n",
    "    # create MultiOutputClassifier instance with XGBoost model inside\n",
    "    multilabel_model = MultiOutputClassifier(xgb_estimator)\n",
    "\n",
    "    # fit the model\n",
    "    multilabel_model.fit(X_train, y_train)\n",
    "    \n",
    "    y_predict = multilabel_model.predict(X_test)\n",
    "\n",
    "    for i in range(barcode_len):\n",
    "        precision, recall, thresholds = precision_recall_curve(y_test[:,i], y_predict[:,i])\n",
    "        auc_precision_recall = auc(recall, precision)\n",
    "        print(auc_precision_recall)"
   ]
  },
  {
   "cell_type": "code",
   "execution_count": null,
   "id": "fbc920ba",
   "metadata": {},
   "outputs": [],
   "source": [
    "def cross_patient_xgboost(supDir, clusterDir, mesenDir, train_patientID, test_patientID):\n",
    "    merged_df, X_data, y_data, barcode_len, sigSubpopsDF = final(supDir, clusterDir, mesenDir, patientID)\n",
    "        \n",
    "    X_data_arr = X_data.to_numpy()\n",
    "    y_data_arr = y_data.to_numpy()\n",
    "    \n",
    "    X_train, X_test, y_train, y_test = train_test_split(X_data_arr, y_data_arr, test_size=0.33, random_state=42)\n",
    "    \n",
    "    print(X_train)\n",
    "    #print(y_data_arr)\n",
    "    # create XGBoost instance with default hyper-parameters\n",
    "    xgb_estimator = xgb.XGBClassifier(objective='binary:logistic')\n",
    "\n",
    "    # create MultiOutputClassifier instance with XGBoost model inside\n",
    "    multilabel_model = MultiOutputClassifier(xgb_estimator)\n",
    "\n",
    "    # fit the model\n",
    "    multilabel_model.fit(X_train, y_train)\n",
    "    \n",
    "    y_predict = multilabel_model.predict(X_test)\n",
    "\n",
    "    for i in range(barcode_len):\n",
    "        precision, recall, thresholds = precision_recall_curve(y_test[:,i], y_predict[:,i])\n",
    "        auc_precision_recall = auc(recall, precision)\n",
    "        print(auc_precision_recall)"
   ]
  },
  {
   "cell_type": "code",
   "execution_count": null,
   "id": "2c764de8",
   "metadata": {},
   "outputs": [],
   "source": [
    "xgboost(supDir, clusterDir, _, 'gb9')"
   ]
  }
 ],
 "metadata": {
  "kernelspec": {
   "display_name": "Python 3 (ipykernel)",
   "language": "python",
   "name": "python3"
  },
  "language_info": {
   "codemirror_mode": {
    "name": "ipython",
    "version": 3
   },
   "file_extension": ".py",
   "mimetype": "text/x-python",
   "name": "python",
   "nbconvert_exporter": "python",
   "pygments_lexer": "ipython3",
   "version": "3.9.12"
  }
 },
 "nbformat": 4,
 "nbformat_minor": 5
}
