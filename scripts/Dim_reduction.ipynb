{
 "cells": [
  {
   "cell_type": "code",
   "execution_count": null,
   "id": "96860b4e",
   "metadata": {},
   "outputs": [],
   "source": [
    "#importing prep_data file, jupyter notebook style\n",
    "%run Standardize_All_Patients.ipynb"
   ]
  },
  {
   "cell_type": "code",
   "execution_count": null,
   "id": "da9a2801",
   "metadata": {},
   "outputs": [],
   "source": [
    "import numpy as np\n",
    "import matplotlib.pyplot as plt\n",
    "from sklearn.preprocessing import StandardScaler\n",
    "from collections import Counter"
   ]
  },
  {
   "cell_type": "code",
   "execution_count": null,
   "id": "1a898887",
   "metadata": {},
   "outputs": [],
   "source": [
    "import umap"
   ]
  },
  {
   "cell_type": "code",
   "execution_count": null,
   "id": "bc8fe402",
   "metadata": {},
   "outputs": [],
   "source": [
    "supDir = '/Users/elikond/Downloads/surprisal_analysis/'\n",
    "clusterDir = '/Users/elikond/Downloads/clusters/'"
   ]
  },
  {
   "cell_type": "code",
   "execution_count": null,
   "id": "04d3d2e6",
   "metadata": {},
   "outputs": [],
   "source": [
    "#merged_df, _, _, barcode_len, sigSubpopsDF = final(supDir, clusterDir, mesenDir, 'gb9')\n",
    "#sigSubpopsDF.head()"
   ]
  },
  {
   "cell_type": "code",
   "execution_count": null,
   "id": "65025971",
   "metadata": {},
   "outputs": [],
   "source": [
    "def umap_all_clusters(supDir, clusterDir, mesenDir, patientID):\n",
    "    merged_df, X_data, y_data, barcode_len, sigSubpopsDF = final(supDir, clusterDir, mesenDir, patientID)\n",
    "\n",
    "    subpops = merged_df.iloc[:,-1]\n",
    "    num_subpops = len(Counter(subpops).keys())\n",
    "    \n",
    "    #reducer = umap1.UMAP()\n",
    "    #scaled_X_data = StandardScaler().fit_transform(X_data)\n",
    "    mapper = umap.UMAP().fit(X_data)\n",
    "    embedding = reducer.fit_transform(scaled_X_data)\n",
    "    \n",
    "    print(max(subpops))\n",
    "    plt.figure(figsize=(8, 8))\n",
    "    plt.title(patientID.upper(), fontsize=12);\n",
    "    plt.scatter(embedding[:, 0], embedding[:, 1], c=subpops, cmap='Spectral', s=5)\n",
    "    plt.gca().set_aspect('equal', 'datalim')\n",
    "    plt.colorbar(boundaries=np.arange(num_subpops + 2) - 0.5).set_ticks(np.arange(num_subpops + 1))\n",
    "    plt.show()"
   ]
  },
  {
   "cell_type": "code",
   "execution_count": null,
   "id": "12137a82",
   "metadata": {},
   "outputs": [],
   "source": [
    "umap_all_clusters(supDir, clusterDir, mesenDir, 'gb9')"
   ]
  },
  {
   "cell_type": "code",
   "execution_count": null,
   "id": "6007bbc1",
   "metadata": {},
   "outputs": [],
   "source": [
    "#color is sig subpops\n",
    "def identify_single_cluster(supDir, clusterDir, mesenDir, patientID):\n",
    "    merged_df, _, _, barcode_len, sigSubpopsDF = final(supDir, clusterDir, mesenDir, patientID)\n",
    "\n",
    "    X_data = sigSubpopsDF.iloc[:,4:-barcode_len-6]\n",
    "    \n",
    "    clusterDF = sigSubpopsDF[sigSubpopsDF['seurat_clusters'] == 1]\n",
    "    subpops = clusterDF.iloc[:,-1]\n",
    "    sig_index = list(clusterDF.index)\n",
    "    num_subpops = len(Counter(subpops).keys())\n",
    "    \n",
    "    reducer = umap1.UMAP()\n",
    "    scaled_X_data = StandardScaler().fit_transform(X_data)\n",
    "    embedding = reducer.fit_transform(scaled_X_data)\n",
    "    sig_embedding = embedding[sig_index]\n",
    "    print(sig_embedding)\n",
    "    \n",
    "    print(max(subpops))\n",
    "    plt.figure(figsize=(8, 8))\n",
    "    plt.title(patientID.upper() + ' Cluster 1', fontsize=12);\n",
    "    plt.scatter(sig_embedding[:, 0], sig_embedding[:, 1], c=subpops, cmap='Spectral', s=5)\n",
    "    plt.gca().set_aspect('equal', 'datalim')\n",
    "    plt.colorbar(boundaries=np.arange(num_subpops + 2) - 0.5).set_ticks(np.arange(num_subpops + 1))\n",
    "    plt.show()"
   ]
  },
  {
   "cell_type": "code",
   "execution_count": null,
   "id": "fcd6ca39",
   "metadata": {},
   "outputs": [],
   "source": [
    "test_umap(supDir, clusterDir, mesenDir, 'gb9')"
   ]
  },
  {
   "cell_type": "code",
   "execution_count": null,
   "id": "068eda59",
   "metadata": {},
   "outputs": [],
   "source": [
    "def umap_one_cluster(supDir, clusterDir, mesenDir, patientID, clusterNum):\n",
    "    merged_df, _, _, barcode_len, sigSubpopsDF = final(supDir, clusterDir, mesenDir, patientID)\n",
    "    \n",
    "    clusterDF = sigSubpopsDF[sigSubpopsDF['seurat_clusters'] == clusterNum]\n",
    "    X_data = clusterDF.iloc[:,4:-barcode_len-6]\n",
    "    subpops = clusterDF.iloc[:,-1]\n",
    "    \n",
    "    num_subpops = len(Counter(subpops).keys())\n",
    "\n",
    "    reducer = umap1.UMAP()\n",
    "    scaled_X_data = StandardScaler().fit_transform(X_data)\n",
    "    embedding = reducer.fit_transform(scaled_X_data)\n",
    "    print(embedding.shape)\n",
    "\n",
    "    plt.figure(figsize=(8, 8))\n",
    "    plt.title(patientID.upper() + ' Cluster ' + str(clusterNum), fontsize=12);\n",
    "    plt.scatter(embedding[:, 0], embedding[:, 1], c=subpops, cmap='Spectral', s=5)\n",
    "    plt.gca().set_aspect('equal', 'datalim')\n",
    "    plt.colorbar(boundaries=np.arange(num_subpops + 2)-0.5).set_ticks(np.arange(num_subpops + 1))"
   ]
  },
  {
   "cell_type": "code",
   "execution_count": null,
   "id": "3ac9b3b8",
   "metadata": {},
   "outputs": [],
   "source": [
    "invidual_umap_cluster(supDir, clusterDir, mesenDir, 'gb13', 0)"
   ]
  },
  {
   "cell_type": "code",
   "execution_count": null,
   "id": "7c69033b",
   "metadata": {},
   "outputs": [],
   "source": [
    "#ran these for control, treatment, and all"
   ]
  }
 ],
 "metadata": {
  "kernelspec": {
   "display_name": "Python 3 (ipykernel)",
   "language": "python",
   "name": "python3"
  },
  "language_info": {
   "codemirror_mode": {
    "name": "ipython",
    "version": 3
   },
   "file_extension": ".py",
   "mimetype": "text/x-python",
   "name": "python",
   "nbconvert_exporter": "python",
   "pygments_lexer": "ipython3",
   "version": "3.9.12"
  }
 },
 "nbformat": 4,
 "nbformat_minor": 5
}
