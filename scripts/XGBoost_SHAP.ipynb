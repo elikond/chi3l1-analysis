{
 "cells": [
  {
   "cell_type": "code",
   "execution_count": null,
   "id": "250d63a9",
   "metadata": {},
   "outputs": [],
   "source": [
    "#importing prep_data file, jupyter notebook style\n",
    "%run Prep_data_All_Patients.ipynb"
   ]
  },
  {
   "cell_type": "code",
   "execution_count": null,
   "id": "d47856f1",
   "metadata": {},
   "outputs": [],
   "source": [
    "supDir = '/Users/elikond/Downloads/surprisal_analysis/'\n",
    "clusterDir = '/Users/elikond/Downloads/clusters/'"
   ]
  },
  {
   "cell_type": "code",
   "execution_count": null,
   "id": "ff9a4c7e",
   "metadata": {},
   "outputs": [],
   "source": [
    "from sklearn.model_selection import train_test_split\n",
    "import xgboost as xgb\n",
    "from sklearn.multioutput import MultiOutputClassifier\n",
    "from sklearn.metrics import precision_recall_curve\n",
    "from sklearn.metrics import auc, plot_precision_recall_curve\n",
    "import shap"
   ]
  },
  {
   "cell_type": "code",
   "execution_count": null,
   "id": "1b3493bc",
   "metadata": {},
   "outputs": [],
   "source": [
    "def xgboost(supDir, clusterDir, mesenDir, patientID):\n",
    "    merged_df, X_data, y_data, barcode_len, sigSubpopsDF = final(supDir, clusterDir, mesenDir, patientID)\n",
    "        \n",
    "    X_data_arr = X_data.to_numpy()\n",
    "    y_data_arr = y_data.to_numpy()\n",
    "    \n",
    "    X_train, X_test, y_train, y_test = train_test_split(X_data_arr, y_data_arr, test_size=0.33, random_state=42)\n",
    "    \n",
    "    print(X_train)\n",
    "    #print(y_data_arr)\n",
    "    # create XGBoost instance with default hyper-parameters\n",
    "    xgb_estimator = xgb.XGBClassifier(objective='binary:logistic')\n",
    "\n",
    "    # create MultiOutputClassifier instance with XGBoost model inside\n",
    "    multilabel_model = MultiOutputClassifier(xgb_estimator)\n",
    "\n",
    "    # fit the model\n",
    "    multilabel_model.fit(X_train, y_train)\n",
    "    \n",
    "    y_predict = multilabel_model.predict(X_test)\n",
    "\n",
    "    for i in range(barcode_len):\n",
    "        precision, recall, thresholds = precision_recall_curve(y_test[:,i], y_predict[:,i])\n",
    "        auc_precision_recall = auc(recall, precision)\n",
    "        print(auc_precision_recall)\n",
    "        \n",
    "    explainer = shap.Explainer(multilabel_model)\n",
    "    shap_values = explainer.shap_values(X_train)\n",
    "    np.abs(shap_values.sum(1) + explainer.expected_value - pred).max()\n",
    "        \n",
    "    return multilabel_model"
   ]
  },
  {
   "cell_type": "code",
   "execution_count": null,
   "id": "2c764de8",
   "metadata": {},
   "outputs": [],
   "source": [
    "xgboost(supDir, clusterDir, mesenDir, 'gb13')"
   ]
  },
  {
   "cell_type": "code",
   "execution_count": null,
   "id": "fbc920ba",
   "metadata": {},
   "outputs": [],
   "source": [
    "def cross_patient_xgboost(supDir, clusterDir, mesenDir, train_patientID, test_patientID):\n",
    "    mergedTrain_DF, XTrain, yTrain, barcodeTrain_len, Train_sigSubpopsDF = final(supDir, clusterDir, mesenDir, train_patientID)\n",
    "    mergedTest_DF, XTest, yTest, barcodeTest_len, Test_sigSubpopsDF = final(supDir, clusterDir, mesenDir, test_patientID)\n",
    "    \n",
    "    shared_col = list(XTrain.columns & XTest.columns)\n",
    "    \n",
    "    XTrain_shared = XTrain[shared_col]\n",
    "    XTrain_arr = XTrain_shared.to_numpy()\n",
    "    yTrain_arr = yTrain.to_numpy()\n",
    "\n",
    "    XTest_shared = XTest[shared_col]\n",
    "    XTest_arr = XTest_shared.to_numpy()\n",
    "    yTest_arr = yTest.to_numpy()\n",
    "\n",
    "    # create XGBoost instance with default hyper-parameters\n",
    "    xgb_estimator = xgb.XGBClassifier(objective='binary:logistic')\n",
    "\n",
    "    # create MultiOutputClassifier instance with XGBoost model inside\n",
    "    multilabel_model = MultiOutputClassifier(xgb_estimator)\n",
    "\n",
    "    # fit the model\n",
    "    multilabel_model.fit(XTrain_arr, yTrain_arr)\n",
    "    \n",
    "    y_predict = multilabel_model.predict(XTest_arr)\n",
    "\n",
    "    for i in range(barcodeTest_len):\n",
    "        precision, recall, thresholds = precision_recall_curve(yTest_arr[:,i], y_predict[:,i])\n",
    "        auc_precision_recall = auc(recall, precision)\n",
    "        print(auc_precision_recall)"
   ]
  },
  {
   "cell_type": "code",
   "execution_count": null,
   "id": "d1816487",
   "metadata": {},
   "outputs": [],
   "source": [
    "cross_patient_xgboost(supDir, clusterDir, _, 'gb13', 'gb9')"
   ]
  },
  {
   "cell_type": "code",
   "execution_count": null,
   "id": "9f1efd99",
   "metadata": {},
   "outputs": [],
   "source": []
  }
 ],
 "metadata": {
  "kernelspec": {
   "display_name": "Python 3 (ipykernel)",
   "language": "python",
   "name": "python3"
  },
  "language_info": {
   "codemirror_mode": {
    "name": "ipython",
    "version": 3
   },
   "file_extension": ".py",
   "mimetype": "text/x-python",
   "name": "python",
   "nbconvert_exporter": "python",
   "pygments_lexer": "ipython3",
   "version": "3.9.12"
  }
 },
 "nbformat": 4,
 "nbformat_minor": 5
}
